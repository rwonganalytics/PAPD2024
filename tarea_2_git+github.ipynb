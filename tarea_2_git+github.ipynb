{
 "cells": [
  {
   "cell_type": "markdown",
   "id": "2501ebc8-515c-4a38-afac-ee39a3fe3e35",
   "metadata": {},
   "source": [
    "Universidad Galileo  \n",
    "Postgrado en Análisis y Predicción de Datos  \n",
    "Ciencia de Datos en Python  \n",
    "Ramiro Wong  \n",
    "2300952"
   ]
  },
  {
   "cell_type": "markdown",
   "id": "065a49c4-c0b4-427b-9171-773eb74de6dc",
   "metadata": {
    "tags": []
   },
   "source": [
    "# Tarea 1: Git y Github"
   ]
  },
  {
   "cell_type": "markdown",
   "id": "d0b7155f-6aa0-4398-9f90-28831b9aa9f0",
   "metadata": {},
   "source": [
    "## Git"
   ]
  },
  {
   "cell_type": "markdown",
   "id": "c088448a-19be-40ca-b907-bfc74e9d8a88",
   "metadata": {},
   "source": [
    "Git es un sistema de control de versiones para dar seguimiento a modificaciones en código fuente en el desarrollo de software. Es gratis y de alta calidad. Originalmente, fue creado como un sistema open-source para coordinar tareas entre programadores, pero actualmente se usa para dar seguimiento a cualquier tipo de archivos. Los objetivos clave de Git son:  \n",
    "* Velocidad y eficiencia  \n",
    "* Integridad de datos  \n",
    "* Soporte en workflows no lineares y distribuidos  \n",
    "  \n"
   ]
  },
  {
   "cell_type": "markdown",
   "id": "e90907fa-2c31-4819-b539-bbc352290ecc",
   "metadata": {},
   "source": [
    "## Github"
   ]
  },
  {
   "cell_type": "markdown",
   "id": "28172afc-6e85-40e0-a925-fbd2422c44d7",
   "metadata": {},
   "source": [
    "Github es una plataforma de colaboración y control de versiones para almacenar y administrar código. Permite colaborar con otros en proyectos desde cualquier lugar.  \n",
    "  \n",
    "Github es un repositorio basado en la web. Este servicio de hosting tiene almacenaje basado en la nube. Github ofrece todo el control de versiones distribuido y la administración de código fuente de Git, mientras agrega otras características.   \n",
    "  \n",
    "Además, los repositorios de Github están abiertos al público. Desarrolladores alrededor del mundo pueden interactuar y contribuir al código de otros, modificarlo o mejorarlo, haciendo de GitHub un sitio de networking para profesionales. Este procesos de interacción y contribución también se llama \"social coding\"."
   ]
  },
  {
   "cell_type": "markdown",
   "id": "1a8c131d-93d4-43b4-a31a-08fea0597c36",
   "metadata": {},
   "source": [
    "## Diferencias entre Git y GitHub"
   ]
  },
  {
   "cell_type": "markdown",
   "id": "dcf1434b-30e3-4772-a3c9-efb87e1e5511",
   "metadata": {},
   "source": [
    "La principal diferencia entre Git y GitHub es su funcionalidad. Básicamente, sus únicas similitudes son que proveen code source management (SCM) y hacen de combinar y compartir código algo más fácil. Git está diseñado para administrar toda la historia del código fuente. Cada desarrollador debe tener Git instalado en su computadora local para colaborar. Es una de las mejores y más usadas herramientas DevOps. Por otra parte, GitHub, es un servicio de hosting en la web para repositorios Git. Ofrece todas las funciones DVCS SCM de Git y tiene características adicionales. Esto incluye funciones de colaboración como project management, administración de tickets de soporte y seguimiento de bugs.   \n",
    "  \n",
    "Otra diferencia entre Git y GitHub es el ambiente en el que operan. Git está instalado localmente en el sistema, para que los desarrolladores manejen la historia de su código fuente usando sus computadoras locales como repositorios. Esto significa que no se requiere de un servidor centralizado para operar Git. Adicionalmente, no hay sistema de administración de usuarios disponible ni una GUI de escritorio patentada. GitHub, por el contrario, vive en la nube, por lo que requiere de acceso a internet. Además, tiene un sistema de administración de usuarios y una GUI amigable para los usuarios. También tiene una versión de escritorio. Es importante mencionar que Git puede usarse sin GitHub pero GitHub no puede usarse sin Git."
   ]
  },
  {
   "cell_type": "markdown",
   "id": "0bdc7637-20d8-4cf8-9643-ac4315ef7707",
   "metadata": {},
   "source": [
    "## Referencias"
   ]
  },
  {
   "cell_type": "markdown",
   "id": "c551881f-dbc0-41eb-a4cc-22a39c8fc8c9",
   "metadata": {},
   "source": [
    "* Simplilearn. (2023). \"Git vs GitHub: Difference Between Git and GitHub\".. En: https://www.simplilearn.com/tutorials/git-tutorial/git-vs-github (consultado el: 11/02/2024)"
   ]
  },
  {
   "cell_type": "code",
   "execution_count": null,
   "id": "d9964c63-bbf5-48ea-bd00-3d104b9fdd2e",
   "metadata": {},
   "outputs": [],
   "source": []
  }
 ],
 "metadata": {
  "kernelspec": {
   "display_name": "Python 3 (ipykernel)",
   "language": "python",
   "name": "python3"
  },
  "language_info": {
   "codemirror_mode": {
    "name": "ipython",
    "version": 3
   },
   "file_extension": ".py",
   "mimetype": "text/x-python",
   "name": "python",
   "nbconvert_exporter": "python",
   "pygments_lexer": "ipython3",
   "version": "3.11.5"
  }
 },
 "nbformat": 4,
 "nbformat_minor": 5
}
